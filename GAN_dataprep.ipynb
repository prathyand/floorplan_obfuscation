{
 "cells": [
  {
   "cell_type": "code",
   "execution_count": 1,
   "id": "f674b2a8",
   "metadata": {},
   "outputs": [],
   "source": [
    "import cv2\n",
    "import numpy as np\n",
    "from matplotlib import pyplot as plt\n",
    "from scipy import ndimage\n",
    "from scipy.ndimage import convolve\n",
    "import math\n",
    "import os\n",
    "import random\n",
    "\n",
    "import os, os.path\n",
    "from random import sample\n",
    "import shutil"
   ]
  },
  {
   "cell_type": "code",
   "execution_count": 2,
   "id": "171053a7",
   "metadata": {},
   "outputs": [],
   "source": [
    "def showimg(img,name):\n",
    "    print(img.shape)\n",
    "    plt.imshow(img)\n",
    "    plt.title(name)\n",
    "    plt.show()"
   ]
  },
  {
   "cell_type": "code",
   "execution_count": 3,
   "id": "75528101",
   "metadata": {},
   "outputs": [],
   "source": [
    "def colorRGB(value):\n",
    "    value = value.lstrip('#')\n",
    "    lv = len(value)\n",
    "    return tuple(int(value[i:i + lv // 3], 16) for i in range(0, lv, lv // 3))\n",
    "\n",
    "colors=['#808000','#00FF00','#0000FF','#FFFF00','#00FFFF','#FF00FF','#808080','#FF8080','#80FF80','#8080FF','#008080','#800080','#000000','#FFFFFF','#FF0000']\n",
    "coice = [1,2,3,4,5,6,7,8,9,10,11,12,127,255,127,60,127,60]\n",
    "rgbcols=[]\n",
    "for i in colors:\n",
    "    rgbcols.append(colorRGB(i))\n",
    "colmap={}\n",
    "j=0\n",
    "for i in range(len(coice)):\n",
    "    if(coice[i] not in colmap):\n",
    "        colmap[coice[i]]=(rgbcols[j][2],rgbcols[j][1],rgbcols[j][0])\n",
    "        j+=1\n",
    "# colmap\n",
    "def transformtotarget(impath,imname,imsavepath):\n",
    "    img = cv2.imread(impath+imname)\n",
    "#     showimg(img,\"nn\")\n",
    "    c1,c2,c3 = cv2.split(img)\n",
    "    conds = [c2==0,c2==1,c2==2,c2==3,c2==4,c2==5,c2==6,c2==7,c2==8,c2==9,c2==10,c2==11,c2==12,c2==13,c2==14,c2==15,c2==16,c2==17]\n",
    "    coice = [1,2,3,4,5,6,7,8,9,10,11,12,127,255,127,60,127,60]\n",
    "    mb=np.select(conds,coice,default=0)\n",
    "    gtmap = np.zeros((256,256,3), np.uint8)\n",
    "    for k,v in colmap.items():\n",
    "        gtmap[np.where(mb==k)]=v\n",
    "#     showimg(mb,\"plot\")\n",
    "    cv2.imwrite(imsavepath+imname,gtmap)"
   ]
  },
  {
   "cell_type": "code",
   "execution_count": 6,
   "id": "a84c6e0c",
   "metadata": {},
   "outputs": [
    {
     "data": {
      "text/plain": [
       "{1: (0, 128, 128),\n",
       " 2: (0, 255, 0),\n",
       " 3: (255, 0, 0),\n",
       " 4: (0, 255, 255),\n",
       " 5: (255, 255, 0),\n",
       " 6: (255, 0, 255),\n",
       " 7: (128, 128, 128),\n",
       " 8: (128, 128, 255),\n",
       " 9: (128, 255, 128),\n",
       " 10: (255, 128, 128),\n",
       " 11: (128, 128, 0),\n",
       " 12: (128, 0, 128),\n",
       " 127: (0, 0, 0),\n",
       " 255: (255, 255, 255),\n",
       " 60: (0, 0, 255)}"
      ]
     },
     "execution_count": 6,
     "metadata": {},
     "output_type": "execute_result"
    }
   ],
   "source": [
    "colmap # pixelvalue to color mapping: colors in 'BGR' order"
   ]
  },
  {
   "cell_type": "markdown",
   "id": "6de9affe",
   "metadata": {},
   "source": [
    "# Generating ground truth/target data"
   ]
  },
  {
   "cell_type": "code",
   "execution_count": null,
   "id": "54eff2f4",
   "metadata": {},
   "outputs": [],
   "source": [
    "# impath=\"/Users/hardikasnani/Documents/Masters/Spring 2022/Project/Computer Vision/gan/floorplan_dataset/\"\n",
    "# imsavepath=\"/Users/hardikasnani/Documents/Masters/Spring 2022/Project/Computer Vision/gan/data/train/target/\"\n",
    "impath=\"PATH_TO_RPLAN_DATASET\"\n",
    "imsavepath = \"PATH_TO_SAVE_DIR\"\n",
    "imglst=os.listdir(impath)\n",
    "print(len(imglst))"
   ]
  },
  {
   "cell_type": "code",
   "execution_count": null,
   "id": "640e626c",
   "metadata": {},
   "outputs": [],
   "source": [
    "for i in range(len(imglst)):\n",
    "    transformtotarget(impath,imglst[i],imsavepath)"
   ]
  },
  {
   "cell_type": "markdown",
   "id": "486e2dee",
   "metadata": {},
   "source": [
    "# Generating inputs"
   ]
  },
  {
   "cell_type": "code",
   "execution_count": null,
   "id": "3ecc94e9",
   "metadata": {},
   "outputs": [],
   "source": [
    "c1,c2,c3 = cv2.split(img)\n",
    "npu=np.unique(c2)\n",
    "npu=npu[npu<=11]\n",
    "print(npu)\n",
    "n=random.randint(0, len(npu))"
   ]
  },
  {
   "cell_type": "code",
   "execution_count": null,
   "id": "e5b87ed8",
   "metadata": {},
   "outputs": [],
   "source": [
    "def transformtoinput(impath,imname,imsavepath):\n",
    "    img = cv2.imread(impath+imname)\n",
    "#     showimg(img,\"nn\")\n",
    "    c1,c2,c3 = cv2.split(img)\n",
    "    conds = [c2==0,c2==1,c2==2,c2==3,c2==4,c2==5,c2==6,c2==7,c2==8,c2==9,c2==10,c2==11,c2==12,c2==13,c2==14,c2==15,c2==16,c2==17]\n",
    "    coice = [1,2,3,4,5,6,7,8,9,10,11,12,127,255,127,60,127,60]\n",
    "    mb=np.select(conds,coice,default=0)\n",
    "    npu=np.unique(mb)\n",
    "    npu=list(npu[npu<=12])\n",
    "    n=random.randint(1, len(npu))\n",
    "    selectedmasks=random.sample(npu, n)\n",
    "    gtmap = np.zeros((256,256,3), np.uint8)\n",
    "    for k,v in colmap.items():\n",
    "        gtmap[np.where(mb==k)]=v\n",
    "        \n",
    "    for k in selectedmasks:\n",
    "        gtmap[np.where(mb==k)]=(0,0,0)\n",
    "#     showimg(mb,\"plot\")\n",
    "    cv2.imwrite(imsavepath+imname,gtmap)"
   ]
  },
  {
   "cell_type": "code",
   "execution_count": null,
   "id": "824591a0",
   "metadata": {},
   "outputs": [],
   "source": [
    "# impath=\"/Users/hardikasnani/Documents/Masters/Spring 2022/Project/Computer Vision/gan/floorplan_dataset/\"\n",
    "# imsavepathinput=\"/Users/hardikasnani/Documents/Masters/Spring 2022/Project/Computer Vision/gan/data/train/input/\"\n",
    "impath=\"PATH_TO_RPLAN_DATASET\"\n",
    "imsavepathinput = \"PATH_TO_SAVE_DIR\""
   ]
  },
  {
   "cell_type": "code",
   "execution_count": null,
   "id": "0fd70024",
   "metadata": {},
   "outputs": [],
   "source": [
    "for i in range(len(imglst)):\n",
    "    transformtoinput(impath,imglst[i],imsavepathinput)"
   ]
  },
  {
   "cell_type": "markdown",
   "id": "49b505de",
   "metadata": {},
   "source": [
    "# Splitting Data"
   ]
  },
  {
   "cell_type": "code",
   "execution_count": 38,
   "id": "0ee6320d",
   "metadata": {},
   "outputs": [],
   "source": [
    "import os, os.path\n",
    "\n",
    "imgs_names = []\n",
    "path = \"/Users/hardikasnani/Documents/Masters/Spring 2022/Project/Computer Vision/gan/data/training/input/\"\n",
    "for f in os.listdir(path):\n",
    "    imgs_names.append(f)"
   ]
  },
  {
   "cell_type": "code",
   "execution_count": 39,
   "id": "0c954f80",
   "metadata": {},
   "outputs": [],
   "source": [
    "test_names = sample(imgs_names,5000)\n",
    "\n",
    "for name in test_names:\n",
    "    imgs_names.remove(name)"
   ]
  },
  {
   "cell_type": "code",
   "execution_count": 40,
   "id": "7586d472",
   "metadata": {},
   "outputs": [],
   "source": [
    "validate_names = sample(imgs_names,5000)\n",
    "\n",
    "for name in validate_names:\n",
    "    imgs_names.remove(name)"
   ]
  },
  {
   "cell_type": "code",
   "execution_count": 41,
   "id": "179f4b83",
   "metadata": {},
   "outputs": [],
   "source": [
    "train_names = imgs_names"
   ]
  },
  {
   "cell_type": "code",
   "execution_count": 42,
   "id": "1e18b7c5",
   "metadata": {},
   "outputs": [],
   "source": [
    "pick_input_images_from = '/Users/hardikasnani/Documents/Masters/Spring 2022/Project/Computer Vision/gan/data/training/input/'\n",
    "test_input = '/Users/hardikasnani/Documents/Masters/Spring 2022/Project/Computer Vision/gan/data/test/input/'\n",
    "validate_input = '/Users/hardikasnani/Documents/Masters/Spring 2022/Project/Computer Vision/gan/data/validate/input/'\n",
    "train_input = '/Users/hardikasnani/Documents/Masters/Spring 2022/Project/Computer Vision/gan/data/train/input/'"
   ]
  },
  {
   "cell_type": "code",
   "execution_count": 47,
   "id": "8d2cd2d6",
   "metadata": {},
   "outputs": [],
   "source": [
    "pick_target_images_from = '/Users/hardikasnani/Documents/Masters/Spring 2022/Project/Computer Vision/gan/data/training/target/'\n",
    "test_target = '/Users/hardikasnani/Documents/Masters/Spring 2022/Project/Computer Vision/gan/data/test/target/'\n",
    "validate_target = '/Users/hardikasnani/Documents/Masters/Spring 2022/Project/Computer Vision/gan/data/validate/target/'\n",
    "train_target = '/Users/hardikasnani/Documents/Masters/Spring 2022/Project/Computer Vision/gan/data/train/target/'"
   ]
  },
  {
   "cell_type": "code",
   "execution_count": 50,
   "id": "7ac0403a",
   "metadata": {},
   "outputs": [],
   "source": [
    "os.chdir(pick_target_images_from)\n",
    "dst_dir = train_input\n",
    "for f in os.listdir():\n",
    "    if f in train_names:\n",
    "        shutil.copy(f, dst_dir)"
   ]
  },
  {
   "cell_type": "code",
   "execution_count": null,
   "id": "31550269",
   "metadata": {},
   "outputs": [],
   "source": []
  }
 ],
 "metadata": {
  "kernelspec": {
   "display_name": "Python 3",
   "language": "python",
   "name": "python3"
  },
  "language_info": {
   "codemirror_mode": {
    "name": "ipython",
    "version": 3
   },
   "file_extension": ".py",
   "mimetype": "text/x-python",
   "name": "python",
   "nbconvert_exporter": "python",
   "pygments_lexer": "ipython3",
   "version": "3.8.8"
  }
 },
 "nbformat": 4,
 "nbformat_minor": 5
}
