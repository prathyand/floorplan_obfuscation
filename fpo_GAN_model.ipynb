{
  "cells": [
    {
      "cell_type": "markdown",
      "metadata": {
        "id": "qtOpK18ldpvm"
      },
      "source": [
        "# Installation"
      ]
    },
    {
      "cell_type": "code",
      "execution_count": null,
      "metadata": {
        "colab": {
          "base_uri": "https://localhost:8080/"
        },
        "id": "NM0UOcU6t9H-",
        "outputId": "16541477-2f99-45af-f48c-d09e1a3c9ba5"
      },
      "outputs": [
        {
          "output_type": "stream",
          "name": "stdout",
          "text": [
            "Mounted at /content/drive\n"
          ]
        }
      ],
      "source": [
        "from google.colab import drive\n",
        "drive.mount('/content/drive')"
      ]
    },
    {
      "cell_type": "code",
      "execution_count": null,
      "metadata": {
        "colab": {
          "base_uri": "https://localhost:8080/"
        },
        "id": "VwHx6XxzYh10",
        "outputId": "3716d173-9752-4d4f-f3c1-5487c8df1735"
      },
      "outputs": [
        {
          "output_type": "stream",
          "name": "stdout",
          "text": [
            "Cloning into 'pytorch-CycleGAN-and-pix2pix'...\n",
            "remote: Enumerating objects: 2447, done.\u001b[K\n",
            "remote: Total 2447 (delta 0), reused 0 (delta 0), pack-reused 2447\u001b[K\n",
            "Receiving objects: 100% (2447/2447), 8.18 MiB | 38.42 MiB/s, done.\n",
            "Resolving deltas: 100% (1535/1535), done.\n"
          ]
        }
      ],
      "source": [
        "! git clone https://github.com/junyanz/pytorch-CycleGAN-and-pix2pix"
      ]
    },
    {
      "cell_type": "code",
      "execution_count": null,
      "metadata": {
        "id": "5MW9VLR1YsGA"
      },
      "outputs": [],
      "source": [
        "import os\n",
        "os.chdir('pytorch-CycleGAN-and-pix2pix/')"
      ]
    },
    {
      "cell_type": "code",
      "execution_count": null,
      "metadata": {
        "id": "Y0DMhYvaYvyg"
      },
      "outputs": [],
      "source": [
        "! pip install -r requirements.txt"
      ]
    },
    {
      "cell_type": "markdown",
      "metadata": {
        "id": "5ykEBEbZdyeB"
      },
      "source": [
        "# Dataset"
      ]
    },
    {
      "cell_type": "markdown",
      "metadata": {
        "id": "0zSzzS4ZhAxQ"
      },
      "source": [
        "### Combining input and target images using combine_A_and_B.py"
      ]
    },
    {
      "cell_type": "code",
      "source": [
        "#Here, file created from GAN_dataprep.ipynb \"CV_Project_dataset.zip\"\n",
        "! unzip -u \"/content/drive/MyDrive/Hardik/Project Dataset/CV_Project_dataset.zip\" -d \"/content/dataset/entire\"\n",
        "\n",
        "! cp -R \"/content/dataset/entire/synthesized_A/test\" \"/content/dataset/A/\"\n",
        "! cp -R \"/content/dataset/entire/synthesized_A/train\" \"/content/dataset/A/\"\n",
        "! cp -R \"/content/dataset/entire/synthesized_A/val\" \"/content/dataset/A/\"\n",
        "\n",
        "! cp -R \"/content/dataset/entire/synthesized_B/test\" \"/content/dataset/B/\"\n",
        "! cp -R \"/content/dataset/entire/synthesized_B/train\" \"/content/dataset/B/\"\n",
        "! cp -R \"/content/dataset/entire/synthesized_B/val\" \"/content/dataset/B/\"\n",
        "\n",
        "!python datasets/combine_A_and_B.py --fold_A \"/content/dataset/A\" --fold_B \"/content/dataset/B\" --fold_AB \"/content/dataset\"\n",
        "\n",
        "#Save the final file as \"data_AB.zip\"\n",
        "!zip -r data_AB.zip \"/content/dataset/A\" \"/content/dataset/B\" "
      ],
      "metadata": {
        "id": "7mjxs3c-Zn0C"
      },
      "execution_count": null,
      "outputs": []
    },
    {
      "cell_type": "code",
      "source": [
        ""
      ],
      "metadata": {
        "id": "-gjILRgaZoxS"
      },
      "execution_count": null,
      "outputs": []
    },
    {
      "cell_type": "code",
      "execution_count": null,
      "metadata": {
        "id": "HSvJKHcvY3s_"
      },
      "outputs": [],
      "source": [
        "! unzip -u \"/content/drive/MyDrive/CVProject/dataset_AB.zip\" "
      ]
    },
    {
      "cell_type": "code",
      "source": [
        "%cd ..\n",
        "!mkdir dataset"
      ],
      "metadata": {
        "colab": {
          "base_uri": "https://localhost:8080/"
        },
        "id": "-a4bcAxPTvla",
        "outputId": "92f75f48-b120-401c-eae9-25f34d451025"
      },
      "execution_count": null,
      "outputs": [
        {
          "output_type": "stream",
          "name": "stdout",
          "text": [
            "/content\n"
          ]
        }
      ]
    },
    {
      "cell_type": "code",
      "execution_count": null,
      "metadata": {
        "id": "n7qHbdvToSH3"
      },
      "outputs": [],
      "source": [
        "# !rm -R __MACOSX"
      ]
    },
    {
      "cell_type": "code",
      "execution_count": null,
      "metadata": {
        "colab": {
          "base_uri": "https://localhost:8080/"
        },
        "id": "ulsJQir_sraq",
        "outputId": "c77c99af-4f2f-4e50-c273-4098318e1d1f"
      },
      "outputs": [
        {
          "name": "stdout",
          "output_type": "stream",
          "text": [
            "/content\n"
          ]
        }
      ],
      "source": [
        "%cd /content/pytorch-CycleGAN-and-pix2pix/"
      ]
    },
    {
      "cell_type": "markdown",
      "source": [
        "## Training the model"
      ],
      "metadata": {
        "id": "eqyjm7h_ab5b"
      }
    },
    {
      "cell_type": "code",
      "execution_count": null,
      "metadata": {
        "colab": {
          "base_uri": "https://localhost:8080/"
        },
        "id": "Xuue1fusssTN",
        "outputId": "07eb909b-a6b3-4f1d-dd92-9d2c73678604"
      },
      "outputs": [
        {
          "name": "stdout",
          "output_type": "stream",
          "text": [
            "Mon May  2 13:10:15 2022       \n",
            "+-----------------------------------------------------------------------------+\n",
            "| NVIDIA-SMI 460.32.03    Driver Version: 460.32.03    CUDA Version: 11.2     |\n",
            "|-------------------------------+----------------------+----------------------+\n",
            "| GPU  Name        Persistence-M| Bus-Id        Disp.A | Volatile Uncorr. ECC |\n",
            "| Fan  Temp  Perf  Pwr:Usage/Cap|         Memory-Usage | GPU-Util  Compute M. |\n",
            "|                               |                      |               MIG M. |\n",
            "|===============================+======================+======================|\n",
            "|   0  Tesla P100-PCIE...  Off  | 00000000:00:04.0 Off |                    0 |\n",
            "| N/A   64C    P0    34W / 250W |      0MiB / 16280MiB |      0%      Default |\n",
            "|                               |                      |                  N/A |\n",
            "+-------------------------------+----------------------+----------------------+\n",
            "                                                                               \n",
            "+-----------------------------------------------------------------------------+\n",
            "| Processes:                                                                  |\n",
            "|  GPU   GI   CI        PID   Type   Process name                  GPU Memory |\n",
            "|        ID   ID                                                   Usage      |\n",
            "|=============================================================================|\n",
            "|  No running processes found                                                 |\n",
            "+-----------------------------------------------------------------------------+\n"
          ]
        }
      ],
      "source": [
        "!nvidia-smi"
      ]
    },
    {
      "cell_type": "code",
      "execution_count": null,
      "metadata": {
        "colab": {
          "background_save": true
        },
        "id": "Mk5V28rLlXOG"
      },
      "outputs": [],
      "source": [
        "!python train.py --dataroot /content/dataset/ --name fpo_pix2pix --model pix2pix --direction AtoB --batch_size 150 --preprocess none --continue_train --epoch_count 23"
      ]
    },
    {
      "cell_type": "code",
      "execution_count": null,
      "metadata": {
        "colab": {
          "base_uri": "https://localhost:8080/"
        },
        "id": "SJdzorG2Z8mE",
        "outputId": "5cddb7ea-2669-4ffa-af20-7babd93d1228"
      },
      "outputs": [
        {
          "name": "stdout",
          "output_type": "stream",
          "text": [
            " (deflated 7%)\n",
            "  adding: content/pytorch-CycleGAN-and-pix2pix/checkpoints/fpo_pix2pix/20_net_D.pth (deflated 7%)\n",
            "  adding: content/pytorch-CycleGAN-and-pix2pix/checkpoints/fpo_pix2pix/latest_net_G.pth (deflated 7%)\n",
            "  adding: content/pytorch-CycleGAN-and-pix2pix/checkpoints/fpo_pix2pix/20_net_G.pth (deflated 7%)\n",
            "  adding: content/pytorch-CycleGAN-and-pix2pix/checkpoints/fpo_pix2pix/train_opt.txt (deflated 79%)\n",
            "  adding: content/pytorch-CycleGAN-and-pix2pix/checkpoints/fpo_pix2pix/latest_net_D.pth (deflated 7%)\n",
            "  adding: content/pytorch-CycleGAN-and-pix2pix/checkpoints/fpo_pix2pix/15_net_G.pth (deflated 7%)\n",
            "  adding: content/pytorch-CycleGAN-and-pix2pix/checkpoints/fpo_pix2pix/15_net_D.pth (deflated 7%)\n"
          ]
        }
      ],
      "source": [
        "#downloading trained model\n",
        "!zip -r /content/fpo.zip /content/pytorch-CycleGAN-and-pix2pix/checkpoints/fpo_pix2pix"
      ]
    },
    {
      "cell_type": "code",
      "execution_count": null,
      "metadata": {
        "id": "XxZsi41551fO"
      },
      "outputs": [],
      "source": [
        "!cp -r ../fpo.zip /content/drive/MyDrive/CVProject"
      ]
    },
    {
      "cell_type": "code",
      "execution_count": null,
      "metadata": {
        "id": "luFnf6h97dF4"
      },
      "outputs": [],
      "source": [
        ""
      ]
    }
  ],
  "metadata": {
    "accelerator": "GPU",
    "colab": {
      "collapsed_sections": [],
      "name": "fpo_GAN.ipynb",
      "provenance": []
    },
    "kernelspec": {
      "display_name": "Python 3",
      "name": "python3"
    },
    "language_info": {
      "name": "python"
    }
  },
  "nbformat": 4,
  "nbformat_minor": 0
}